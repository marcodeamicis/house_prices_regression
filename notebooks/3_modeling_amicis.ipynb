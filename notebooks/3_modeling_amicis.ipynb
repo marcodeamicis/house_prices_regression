{
 "cells": [
  {
   "cell_type": "markdown",
   "id": "d6827126",
   "metadata": {},
   "source": [
    "# Data modeling"
   ]
  },
  {
   "cell_type": "markdown",
   "id": "b098da26",
   "metadata": {},
   "source": [
    "## Library import"
   ]
  },
  {
   "cell_type": "code",
   "execution_count": 6,
   "id": "1e9b8cce",
   "metadata": {
    "ExecuteTime": {
     "end_time": "2022-07-11T00:29:59.711627Z",
     "start_time": "2022-07-11T00:29:59.703626Z"
    }
   },
   "outputs": [],
   "source": [
    "import pandas as pd\n",
    "import seaborn as sns\n",
    "import numpy as np\n",
    "from sklearn.model_selection import train_test_split\n",
    "import statsmodels.api as sm\n",
    "from sklearn.metrics import mean_squared_error as mse"
   ]
  },
  {
   "cell_type": "markdown",
   "id": "f4e69769",
   "metadata": {},
   "source": [
    "## Data import"
   ]
  },
  {
   "cell_type": "code",
   "execution_count": 25,
   "id": "d5c5e650",
   "metadata": {
    "ExecuteTime": {
     "end_time": "2022-07-11T00:11:15.048869Z",
     "start_time": "2022-07-11T00:11:14.986851Z"
    }
   },
   "outputs": [],
   "source": [
    "df_train = pd.read_parquet('../data/interim/df_log_data_baseline.parquet')\n",
    "df_kaggle_test = pd.read_parquet('../data/interim/df_log_data_test_baseline.parquet')"
   ]
  },
  {
   "cell_type": "markdown",
   "id": "a97d2260",
   "metadata": {},
   "source": [
    "## Data inspection"
   ]
  },
  {
   "cell_type": "code",
   "execution_count": 8,
   "id": "00657959",
   "metadata": {
    "ExecuteTime": {
     "end_time": "2022-07-11T00:11:15.094444Z",
     "start_time": "2022-07-11T00:11:15.082441Z"
    }
   },
   "outputs": [
    {
     "name": "stdout",
     "output_type": "stream",
     "text": [
      "<class 'pandas.core.frame.DataFrame'>\n",
      "Int64Index: 1460 entries, 1 to 1460\n",
      "Data columns (total 24 columns):\n",
      " #   Column        Non-Null Count  Dtype  \n",
      "---  ------        --------------  -----  \n",
      " 0   MSSubClass    1460 non-null   float64\n",
      " 1   LotArea       1460 non-null   float64\n",
      " 2   OverallQual   1460 non-null   float64\n",
      " 3   OverallCond   1460 non-null   float64\n",
      " 4   YearBuilt     1460 non-null   float64\n",
      " 5   YearRemodAdd  1460 non-null   float64\n",
      " 6   BsmtFinSF1    1460 non-null   float64\n",
      " 7   BsmtFinSF2    1460 non-null   float64\n",
      " 8   TotalBsmtSF   1460 non-null   float64\n",
      " 9   2ndFlrSF      1460 non-null   float64\n",
      " 10  LowQualFinSF  1460 non-null   float64\n",
      " 11  GrLivArea     1460 non-null   float64\n",
      " 12  BsmtFullBath  1460 non-null   float64\n",
      " 13  BedroomAbvGr  1460 non-null   float64\n",
      " 14  KitchenAbvGr  1460 non-null   float64\n",
      " 15  TotRmsAbvGrd  1460 non-null   float64\n",
      " 16  Fireplaces    1460 non-null   float64\n",
      " 17  GarageCars    1460 non-null   float64\n",
      " 18  GarageArea    1460 non-null   float64\n",
      " 19  WoodDeckSF    1460 non-null   float64\n",
      " 20  ScreenPorch   1460 non-null   float64\n",
      " 21  PoolArea      1460 non-null   float64\n",
      " 22  YrSold        1460 non-null   float64\n",
      " 23  SalePrice     1460 non-null   int64  \n",
      "dtypes: float64(23), int64(1)\n",
      "memory usage: 285.2 KB\n"
     ]
    }
   ],
   "source": [
    "df_train.info()"
   ]
  },
  {
   "cell_type": "markdown",
   "id": "535ec090",
   "metadata": {},
   "source": [
    "There is no null data. The dataset is ready to use."
   ]
  },
  {
   "cell_type": "markdown",
   "id": "11f270ca",
   "metadata": {},
   "source": [
    "## Data split"
   ]
  },
  {
   "cell_type": "code",
   "execution_count": 9,
   "id": "b304e065",
   "metadata": {
    "ExecuteTime": {
     "end_time": "2022-07-11T00:11:15.109449Z",
     "start_time": "2022-07-11T00:11:15.096446Z"
    }
   },
   "outputs": [],
   "source": [
    "X = df_train.drop(['SalePrice'], axis=1)"
   ]
  },
  {
   "cell_type": "code",
   "execution_count": 10,
   "id": "b39557a6",
   "metadata": {
    "ExecuteTime": {
     "end_time": "2022-07-11T00:11:15.125451Z",
     "start_time": "2022-07-11T00:11:15.111449Z"
    }
   },
   "outputs": [],
   "source": [
    "y = df_train['SalePrice']"
   ]
  },
  {
   "cell_type": "code",
   "execution_count": 11,
   "id": "50f39d0a",
   "metadata": {
    "ExecuteTime": {
     "end_time": "2022-07-11T00:11:15.140435Z",
     "start_time": "2022-07-11T00:11:15.126452Z"
    }
   },
   "outputs": [],
   "source": [
    "X_train, X_test, y_train, y_test = train_test_split(X, y, test_size=0.2, random_state=2811)"
   ]
  },
  {
   "cell_type": "markdown",
   "id": "07484b1f",
   "metadata": {},
   "source": [
    "## Training the model"
   ]
  },
  {
   "cell_type": "code",
   "execution_count": 12,
   "id": "eb9b9464",
   "metadata": {
    "ExecuteTime": {
     "end_time": "2022-07-11T00:11:15.218453Z",
     "start_time": "2022-07-11T00:11:15.204450Z"
    }
   },
   "outputs": [],
   "source": [
    "# columns_to_drop = [\n",
    "#     'log_MasVnrArea',\n",
    "#     'log_BsmtUnfSF', \n",
    "#     'log_1stFlrSF', \n",
    "#     'log_BsmtHalfBath', \n",
    "#     'log_GarageYrBlt', \n",
    "#     'log_OpenPorchSF', \n",
    "#     'log_3SsnPorch', \n",
    "#     'log_MiscVal', \n",
    "#     'log_MoSold', \n",
    "#     'log_EnclosedPorch',\n",
    "#     'log_FullBath',\n",
    "#     'log_HalfBath']\n",
    "\n",
    "# X = X.drop(columns_to_drop, axis=1)\n"
   ]
  },
  {
   "cell_type": "code",
   "execution_count": 13,
   "id": "7b0a4384",
   "metadata": {
    "ExecuteTime": {
     "end_time": "2022-07-11T00:11:15.248461Z",
     "start_time": "2022-07-11T00:11:15.235458Z"
    }
   },
   "outputs": [],
   "source": [
    "X_train, X_test, y_train, y_test = train_test_split(X, y, test_size=0.2, random_state=2811)"
   ]
  },
  {
   "cell_type": "code",
   "execution_count": 14,
   "id": "f3785dcc",
   "metadata": {
    "ExecuteTime": {
     "end_time": "2022-07-11T00:11:15.264464Z",
     "start_time": "2022-07-11T00:11:15.250463Z"
    }
   },
   "outputs": [],
   "source": [
    "X_train_com_constante = sm.add_constant(X_train)"
   ]
  },
  {
   "cell_type": "code",
   "execution_count": 15,
   "id": "8caf36d1",
   "metadata": {
    "ExecuteTime": {
     "end_time": "2022-07-11T00:11:15.279468Z",
     "start_time": "2022-07-11T00:11:15.266465Z"
    }
   },
   "outputs": [],
   "source": [
    "modelo_estatsmodels = sm.OLS(y_train, X_train_com_constante, hasconst=True).fit()"
   ]
  },
  {
   "cell_type": "code",
   "execution_count": 16,
   "id": "679f779c",
   "metadata": {
    "ExecuteTime": {
     "end_time": "2022-07-11T00:11:15.310474Z",
     "start_time": "2022-07-11T00:11:15.280467Z"
    }
   },
   "outputs": [
    {
     "data": {
      "text/html": [
       "<table class=\"simpletable\">\n",
       "<caption>OLS Regression Results</caption>\n",
       "<tr>\n",
       "  <th>Dep. Variable:</th>        <td>SalePrice</td>    <th>  R-squared:         </th> <td>   0.765</td> \n",
       "</tr>\n",
       "<tr>\n",
       "  <th>Model:</th>                   <td>OLS</td>       <th>  Adj. R-squared:    </th> <td>   0.760</td> \n",
       "</tr>\n",
       "<tr>\n",
       "  <th>Method:</th>             <td>Least Squares</td>  <th>  F-statistic:       </th> <td>   161.8</td> \n",
       "</tr>\n",
       "<tr>\n",
       "  <th>Date:</th>             <td>Sun, 31 Jul 2022</td> <th>  Prob (F-statistic):</th>  <td>  0.00</td>  \n",
       "</tr>\n",
       "<tr>\n",
       "  <th>Time:</th>                 <td>21:37:29</td>     <th>  Log-Likelihood:    </th> <td> -14019.</td> \n",
       "</tr>\n",
       "<tr>\n",
       "  <th>No. Observations:</th>      <td>  1168</td>      <th>  AIC:               </th> <td>2.809e+04</td>\n",
       "</tr>\n",
       "<tr>\n",
       "  <th>Df Residuals:</th>          <td>  1144</td>      <th>  BIC:               </th> <td>2.821e+04</td>\n",
       "</tr>\n",
       "<tr>\n",
       "  <th>Df Model:</th>              <td>    23</td>      <th>                     </th>     <td> </td>    \n",
       "</tr>\n",
       "<tr>\n",
       "  <th>Covariance Type:</th>      <td>nonrobust</td>    <th>                     </th>     <td> </td>    \n",
       "</tr>\n",
       "</table>\n",
       "<table class=\"simpletable\">\n",
       "<tr>\n",
       "        <td></td>          <th>coef</th>     <th>std err</th>      <th>t</th>      <th>P>|t|</th>  <th>[0.025</th>    <th>0.975]</th>  \n",
       "</tr>\n",
       "<tr>\n",
       "  <th>const</th>        <td>-4.185e+06</td> <td> 1.38e+07</td> <td>   -0.304</td> <td> 0.761</td> <td>-3.12e+07</td> <td> 2.28e+07</td>\n",
       "</tr>\n",
       "<tr>\n",
       "  <th>MSSubClass</th>   <td>-7599.1389</td> <td> 2484.284</td> <td>   -3.059</td> <td> 0.002</td> <td>-1.25e+04</td> <td>-2724.875</td>\n",
       "</tr>\n",
       "<tr>\n",
       "  <th>LotArea</th>      <td> 1.843e+04</td> <td> 3010.457</td> <td>    6.121</td> <td> 0.000</td> <td> 1.25e+04</td> <td> 2.43e+04</td>\n",
       "</tr>\n",
       "<tr>\n",
       "  <th>OverallQual</th>  <td> 7.211e+04</td> <td> 8179.746</td> <td>    8.815</td> <td> 0.000</td> <td> 5.61e+04</td> <td> 8.82e+04</td>\n",
       "</tr>\n",
       "<tr>\n",
       "  <th>OverallCond</th>  <td> 1.726e+04</td> <td> 7085.228</td> <td>    2.436</td> <td> 0.015</td> <td> 3356.502</td> <td> 3.12e+04</td>\n",
       "</tr>\n",
       "<tr>\n",
       "  <th>YearBuilt</th>    <td> 7.509e+05</td> <td> 1.33e+05</td> <td>    5.640</td> <td> 0.000</td> <td>  4.9e+05</td> <td> 1.01e+06</td>\n",
       "</tr>\n",
       "<tr>\n",
       "  <th>YearRemodAdd</th> <td> 3.435e+05</td> <td> 1.64e+05</td> <td>    2.100</td> <td> 0.036</td> <td> 2.25e+04</td> <td> 6.64e+05</td>\n",
       "</tr>\n",
       "<tr>\n",
       "  <th>BsmtFinSF1</th>   <td> 2566.8209</td> <td>  445.184</td> <td>    5.766</td> <td> 0.000</td> <td> 1693.352</td> <td> 3440.290</td>\n",
       "</tr>\n",
       "<tr>\n",
       "  <th>BsmtFinSF2</th>   <td>-1528.3947</td> <td>  653.740</td> <td>   -2.338</td> <td> 0.020</td> <td>-2811.058</td> <td> -245.731</td>\n",
       "</tr>\n",
       "<tr>\n",
       "  <th>TotalBsmtSF</th>  <td>  132.8112</td> <td> 1151.346</td> <td>    0.115</td> <td> 0.908</td> <td>-2126.175</td> <td> 2391.797</td>\n",
       "</tr>\n",
       "<tr>\n",
       "  <th>2ndFlrSF</th>     <td>-1548.2443</td> <td>  617.331</td> <td>   -2.508</td> <td> 0.012</td> <td>-2759.472</td> <td> -337.016</td>\n",
       "</tr>\n",
       "<tr>\n",
       "  <th>LowQualFinSF</th> <td>-4921.6090</td> <td> 1717.268</td> <td>   -2.866</td> <td> 0.004</td> <td>-8290.958</td> <td>-1552.260</td>\n",
       "</tr>\n",
       "<tr>\n",
       "  <th>GrLivArea</th>    <td> 1.096e+05</td> <td> 8762.659</td> <td>   12.509</td> <td> 0.000</td> <td> 9.24e+04</td> <td> 1.27e+05</td>\n",
       "</tr>\n",
       "<tr>\n",
       "  <th>BsmtFullBath</th> <td>-5.175e+04</td> <td> 1.97e+04</td> <td>   -2.628</td> <td> 0.009</td> <td>-9.04e+04</td> <td>-1.31e+04</td>\n",
       "</tr>\n",
       "<tr>\n",
       "  <th>BedroomAbvGr</th> <td>-5.078e+04</td> <td> 5529.777</td> <td>   -9.183</td> <td> 0.000</td> <td>-6.16e+04</td> <td>-3.99e+04</td>\n",
       "</tr>\n",
       "<tr>\n",
       "  <th>KitchenAbvGr</th> <td>-3.793e+04</td> <td> 1.05e+04</td> <td>   -3.622</td> <td> 0.000</td> <td>-5.85e+04</td> <td>-1.74e+04</td>\n",
       "</tr>\n",
       "<tr>\n",
       "  <th>TotRmsAbvGrd</th> <td> 4.403e+04</td> <td> 1.01e+04</td> <td>    4.360</td> <td> 0.000</td> <td> 2.42e+04</td> <td> 6.38e+04</td>\n",
       "</tr>\n",
       "<tr>\n",
       "  <th>Fireplaces</th>   <td> 1.836e+04</td> <td> 6405.297</td> <td>    2.866</td> <td> 0.004</td> <td> 5793.141</td> <td> 3.09e+04</td>\n",
       "</tr>\n",
       "<tr>\n",
       "  <th>GarageCars</th>   <td> 2.846e+04</td> <td> 4706.525</td> <td>    6.047</td> <td> 0.000</td> <td> 1.92e+04</td> <td> 3.77e+04</td>\n",
       "</tr>\n",
       "<tr>\n",
       "  <th>GarageArea</th>   <td>-3547.1116</td> <td>  997.165</td> <td>   -3.557</td> <td> 0.000</td> <td>-5503.589</td> <td>-1590.634</td>\n",
       "</tr>\n",
       "<tr>\n",
       "  <th>WoodDeckSF</th>   <td> 1412.8530</td> <td>  496.558</td> <td>    2.845</td> <td> 0.005</td> <td>  438.586</td> <td> 2387.120</td>\n",
       "</tr>\n",
       "<tr>\n",
       "  <th>ScreenPorch</th>  <td> 1169.4422</td> <td>  880.616</td> <td>    1.328</td> <td> 0.184</td> <td> -558.360</td> <td> 2897.245</td>\n",
       "</tr>\n",
       "<tr>\n",
       "  <th>PoolArea</th>     <td> 2636.7425</td> <td> 2658.587</td> <td>    0.992</td> <td> 0.322</td> <td>-2579.511</td> <td> 7852.996</td>\n",
       "</tr>\n",
       "<tr>\n",
       "  <th>YrSold</th>       <td>-6.661e+05</td> <td> 1.81e+06</td> <td>   -0.368</td> <td> 0.713</td> <td>-4.22e+06</td> <td> 2.88e+06</td>\n",
       "</tr>\n",
       "</table>\n",
       "<table class=\"simpletable\">\n",
       "<tr>\n",
       "  <th>Omnibus:</th>       <td>622.866</td> <th>  Durbin-Watson:     </th> <td>   2.005</td> \n",
       "</tr>\n",
       "<tr>\n",
       "  <th>Prob(Omnibus):</th> <td> 0.000</td>  <th>  Jarque-Bera (JB):  </th> <td>18292.211</td>\n",
       "</tr>\n",
       "<tr>\n",
       "  <th>Skew:</th>          <td> 1.882</td>  <th>  Prob(JB):          </th> <td>    0.00</td> \n",
       "</tr>\n",
       "<tr>\n",
       "  <th>Kurtosis:</th>      <td>22.018</td>  <th>  Cond. No.          </th> <td>2.51e+05</td> \n",
       "</tr>\n",
       "</table><br/><br/>Notes:<br/>[1] Standard Errors assume that the covariance matrix of the errors is correctly specified.<br/>[2] The condition number is large, 2.51e+05. This might indicate that there are<br/>strong multicollinearity or other numerical problems."
      ],
      "text/plain": [
       "<class 'statsmodels.iolib.summary.Summary'>\n",
       "\"\"\"\n",
       "                            OLS Regression Results                            \n",
       "==============================================================================\n",
       "Dep. Variable:              SalePrice   R-squared:                       0.765\n",
       "Model:                            OLS   Adj. R-squared:                  0.760\n",
       "Method:                 Least Squares   F-statistic:                     161.8\n",
       "Date:                Sun, 31 Jul 2022   Prob (F-statistic):               0.00\n",
       "Time:                        21:37:29   Log-Likelihood:                -14019.\n",
       "No. Observations:                1168   AIC:                         2.809e+04\n",
       "Df Residuals:                    1144   BIC:                         2.821e+04\n",
       "Df Model:                          23                                         \n",
       "Covariance Type:            nonrobust                                         \n",
       "================================================================================\n",
       "                   coef    std err          t      P>|t|      [0.025      0.975]\n",
       "--------------------------------------------------------------------------------\n",
       "const        -4.185e+06   1.38e+07     -0.304      0.761   -3.12e+07    2.28e+07\n",
       "MSSubClass   -7599.1389   2484.284     -3.059      0.002   -1.25e+04   -2724.875\n",
       "LotArea       1.843e+04   3010.457      6.121      0.000    1.25e+04    2.43e+04\n",
       "OverallQual   7.211e+04   8179.746      8.815      0.000    5.61e+04    8.82e+04\n",
       "OverallCond   1.726e+04   7085.228      2.436      0.015    3356.502    3.12e+04\n",
       "YearBuilt     7.509e+05   1.33e+05      5.640      0.000     4.9e+05    1.01e+06\n",
       "YearRemodAdd  3.435e+05   1.64e+05      2.100      0.036    2.25e+04    6.64e+05\n",
       "BsmtFinSF1    2566.8209    445.184      5.766      0.000    1693.352    3440.290\n",
       "BsmtFinSF2   -1528.3947    653.740     -2.338      0.020   -2811.058    -245.731\n",
       "TotalBsmtSF    132.8112   1151.346      0.115      0.908   -2126.175    2391.797\n",
       "2ndFlrSF     -1548.2443    617.331     -2.508      0.012   -2759.472    -337.016\n",
       "LowQualFinSF -4921.6090   1717.268     -2.866      0.004   -8290.958   -1552.260\n",
       "GrLivArea     1.096e+05   8762.659     12.509      0.000    9.24e+04    1.27e+05\n",
       "BsmtFullBath -5.175e+04   1.97e+04     -2.628      0.009   -9.04e+04   -1.31e+04\n",
       "BedroomAbvGr -5.078e+04   5529.777     -9.183      0.000   -6.16e+04   -3.99e+04\n",
       "KitchenAbvGr -3.793e+04   1.05e+04     -3.622      0.000   -5.85e+04   -1.74e+04\n",
       "TotRmsAbvGrd  4.403e+04   1.01e+04      4.360      0.000    2.42e+04    6.38e+04\n",
       "Fireplaces    1.836e+04   6405.297      2.866      0.004    5793.141    3.09e+04\n",
       "GarageCars    2.846e+04   4706.525      6.047      0.000    1.92e+04    3.77e+04\n",
       "GarageArea   -3547.1116    997.165     -3.557      0.000   -5503.589   -1590.634\n",
       "WoodDeckSF    1412.8530    496.558      2.845      0.005     438.586    2387.120\n",
       "ScreenPorch   1169.4422    880.616      1.328      0.184    -558.360    2897.245\n",
       "PoolArea      2636.7425   2658.587      0.992      0.322   -2579.511    7852.996\n",
       "YrSold       -6.661e+05   1.81e+06     -0.368      0.713   -4.22e+06    2.88e+06\n",
       "==============================================================================\n",
       "Omnibus:                      622.866   Durbin-Watson:                   2.005\n",
       "Prob(Omnibus):                  0.000   Jarque-Bera (JB):            18292.211\n",
       "Skew:                           1.882   Prob(JB):                         0.00\n",
       "Kurtosis:                      22.018   Cond. No.                     2.51e+05\n",
       "==============================================================================\n",
       "\n",
       "Notes:\n",
       "[1] Standard Errors assume that the covariance matrix of the errors is correctly specified.\n",
       "[2] The condition number is large, 2.51e+05. This might indicate that there are\n",
       "strong multicollinearity or other numerical problems.\n",
       "\"\"\""
      ]
     },
     "execution_count": 16,
     "metadata": {},
     "output_type": "execute_result"
    }
   ],
   "source": [
    "modelo_estatsmodels.summary()"
   ]
  },
  {
   "cell_type": "markdown",
   "id": "c300f4f4",
   "metadata": {},
   "source": [
    "## Results graph analysis "
   ]
  },
  {
   "cell_type": "code",
   "execution_count": 17,
   "id": "412059f1",
   "metadata": {
    "ExecuteTime": {
     "end_time": "2022-07-11T00:12:00.169458Z",
     "start_time": "2022-07-11T00:12:00.153929Z"
    }
   },
   "outputs": [],
   "source": [
    "X_test_com_constante = sm.add_constant(X_test)"
   ]
  },
  {
   "cell_type": "code",
   "execution_count": 18,
   "id": "b7cd5a83",
   "metadata": {
    "ExecuteTime": {
     "end_time": "2022-07-11T00:12:07.788693Z",
     "start_time": "2022-07-11T00:12:07.778485Z"
    }
   },
   "outputs": [],
   "source": [
    "y_previsto_test = modelo_estatsmodels.predict(X_test_com_constante)"
   ]
  },
  {
   "cell_type": "code",
   "execution_count": 19,
   "id": "ce329f1f",
   "metadata": {
    "ExecuteTime": {
     "end_time": "2022-07-11T00:12:32.295625Z",
     "start_time": "2022-07-11T00:12:32.060461Z"
    }
   },
   "outputs": [
    {
     "data": {
      "text/plain": [
       "<AxesSubplot:title={'center':'Previsão X Real'}, xlabel='log do Preço - Previsão', ylabel='log do Preço - Real'>"
      ]
     },
     "execution_count": 19,
     "metadata": {},
     "output_type": "execute_result"
    },
    {
     "data": {
      "image/png": "[encoded data removed]",
      "text/plain": [
       "<Figure size 864x432 with 1 Axes>"
      ]
     },
     "metadata": {
      "needs_background": "light"
     },
     "output_type": "display_data"
    }
   ],
   "source": [
    "ax = sns.scatterplot(x=y_previsto_test, y=y_test)\n",
    "ax.figure.set_size_inches(12, 6)\n",
    "ax.set_title('Previsão X Real', fontsize=18)\n",
    "ax.set_xlabel('log do Preço - Previsão', fontsize=14)\n",
    "ax.set_ylabel('log do Preço - Real', fontsize=14)\n",
    "ax"
   ]
  },
  {
   "cell_type": "markdown",
   "id": "5d5c3fbb",
   "metadata": {},
   "source": [
    "## Residual values"
   ]
  },
  {
   "cell_type": "code",
   "execution_count": 20,
   "id": "9c6f61db",
   "metadata": {
    "ExecuteTime": {
     "end_time": "2022-07-11T00:12:50.162982Z",
     "start_time": "2022-07-11T00:12:50.156592Z"
    }
   },
   "outputs": [],
   "source": [
    "residuo = y_test - y_previsto_test"
   ]
  },
  {
   "cell_type": "code",
   "execution_count": 21,
   "id": "20c21db0",
   "metadata": {
    "ExecuteTime": {
     "end_time": "2022-07-11T00:12:53.681046Z",
     "start_time": "2022-07-11T00:12:53.556103Z"
    }
   },
   "outputs": [
    {
     "name": "stderr",
     "output_type": "stream",
     "text": [
      "c:\\Users\\Marco De Amicis\\AppData\\Local\\Programs\\Python\\Python39\\lib\\site-packages\\seaborn\\distributions.py:2619: FutureWarning: `distplot` is a deprecated function and will be removed in a future version. Please adapt your code to use either `displot` (a figure-level function with similar flexibility) or `histplot` (an axes-level function for histograms).\n",
      "  warnings.warn(msg, FutureWarning)\n"
     ]
    },
    {
     "data": {
      "text/plain": [
       "<AxesSubplot:title={'center':'Distribuição de Frequências dos Resíduos'}, xlabel='log do Preço', ylabel='Density'>"
      ]
     },
     "execution_count": 21,
     "metadata": {},
     "output_type": "execute_result"
    },
    {
     "data": {
      "image/png": "[encoded data removed]",
      "text/plain": [
       "<Figure size 720x432 with 1 Axes>"
      ]
     },
     "metadata": {
      "needs_background": "light"
     },
     "output_type": "display_data"
    }
   ],
   "source": [
    "ax = sns.distplot(residuo)\n",
    "ax.figure.set_size_inches(10, 6)\n",
    "ax.set_title('Distribuição de Frequências dos Resíduos', fontsize=18)\n",
    "ax.set_xlabel('log do Preço', fontsize=14)\n",
    "ax"
   ]
  },
  {
   "cell_type": "code",
   "execution_count": 22,
   "id": "6c7524b3",
   "metadata": {
    "ExecuteTime": {
     "end_time": "2022-07-11T00:20:03.917453Z",
     "start_time": "2022-07-11T00:20:03.907461Z"
    }
   },
   "outputs": [
    {
     "name": "stdout",
     "output_type": "stream",
     "text": [
      "RMSE: 33337.61\n"
     ]
    }
   ],
   "source": [
    "print(f\"RMSE: {sm.tools.eval_measures.rmse(y_test, y_previsto_test, axis=0):.2f}\")"
   ]
  },
  {
   "cell_type": "code",
   "execution_count": 23,
   "id": "97dbb54b",
   "metadata": {
    "ExecuteTime": {
     "end_time": "2022-07-11T00:33:05.730496Z",
     "start_time": "2022-07-11T00:33:05.711490Z"
    }
   },
   "outputs": [
    {
     "name": "stderr",
     "output_type": "stream",
     "text": [
      "c:\\Users\\Marco De Amicis\\AppData\\Local\\Programs\\Python\\Python39\\lib\\site-packages\\pandas\\core\\arraylike.py:397: RuntimeWarning: overflow encountered in exp\n",
      "  result = getattr(ufunc, method)(*inputs, **kwargs)\n"
     ]
    },
    {
     "data": {
      "text/html": [
       "<div>\n",
       "<style scoped>\n",
       "    .dataframe tbody tr th:only-of-type {\n",
       "        vertical-align: middle;\n",
       "    }\n",
       "\n",
       "    .dataframe tbody tr th {\n",
       "        vertical-align: top;\n",
       "    }\n",
       "\n",
       "    .dataframe thead th {\n",
       "        text-align: right;\n",
       "    }\n",
       "</style>\n",
       "<table border=\"1\" class=\"dataframe\">\n",
       "  <thead>\n",
       "    <tr style=\"text-align: right;\">\n",
       "      <th></th>\n",
       "      <th>SalePrice</th>\n",
       "      <th>0</th>\n",
       "      <th>SalePrice</th>\n",
       "      <th>1</th>\n",
       "      <th>2</th>\n",
       "    </tr>\n",
       "    <tr>\n",
       "      <th>Id</th>\n",
       "      <th></th>\n",
       "      <th></th>\n",
       "      <th></th>\n",
       "      <th></th>\n",
       "      <th></th>\n",
       "    </tr>\n",
       "  </thead>\n",
       "  <tbody>\n",
       "    <tr>\n",
       "      <th>813</th>\n",
       "      <td>55993</td>\n",
       "      <td>114757.941932</td>\n",
       "      <td>inf</td>\n",
       "      <td>inf</td>\n",
       "      <td>NaN</td>\n",
       "    </tr>\n",
       "    <tr>\n",
       "      <th>273</th>\n",
       "      <td>290000</td>\n",
       "      <td>287439.178930</td>\n",
       "      <td>inf</td>\n",
       "      <td>inf</td>\n",
       "      <td>NaN</td>\n",
       "    </tr>\n",
       "    <tr>\n",
       "      <th>295</th>\n",
       "      <td>167000</td>\n",
       "      <td>222939.905891</td>\n",
       "      <td>inf</td>\n",
       "      <td>inf</td>\n",
       "      <td>NaN</td>\n",
       "    </tr>\n",
       "    <tr>\n",
       "      <th>453</th>\n",
       "      <td>204000</td>\n",
       "      <td>221576.797366</td>\n",
       "      <td>inf</td>\n",
       "      <td>inf</td>\n",
       "      <td>NaN</td>\n",
       "    </tr>\n",
       "    <tr>\n",
       "      <th>1003</th>\n",
       "      <td>232000</td>\n",
       "      <td>259177.510373</td>\n",
       "      <td>inf</td>\n",
       "      <td>inf</td>\n",
       "      <td>NaN</td>\n",
       "    </tr>\n",
       "    <tr>\n",
       "      <th>...</th>\n",
       "      <td>...</td>\n",
       "      <td>...</td>\n",
       "      <td>...</td>\n",
       "      <td>...</td>\n",
       "      <td>...</td>\n",
       "    </tr>\n",
       "    <tr>\n",
       "      <th>233</th>\n",
       "      <td>94500</td>\n",
       "      <td>70537.643946</td>\n",
       "      <td>inf</td>\n",
       "      <td>inf</td>\n",
       "      <td>NaN</td>\n",
       "    </tr>\n",
       "    <tr>\n",
       "      <th>1249</th>\n",
       "      <td>129500</td>\n",
       "      <td>195815.350462</td>\n",
       "      <td>inf</td>\n",
       "      <td>inf</td>\n",
       "      <td>NaN</td>\n",
       "    </tr>\n",
       "    <tr>\n",
       "      <th>882</th>\n",
       "      <td>187500</td>\n",
       "      <td>237241.283807</td>\n",
       "      <td>inf</td>\n",
       "      <td>inf</td>\n",
       "      <td>NaN</td>\n",
       "    </tr>\n",
       "    <tr>\n",
       "      <th>305</th>\n",
       "      <td>295000</td>\n",
       "      <td>292327.987909</td>\n",
       "      <td>inf</td>\n",
       "      <td>inf</td>\n",
       "      <td>NaN</td>\n",
       "    </tr>\n",
       "    <tr>\n",
       "      <th>315</th>\n",
       "      <td>178000</td>\n",
       "      <td>177925.364882</td>\n",
       "      <td>inf</td>\n",
       "      <td>inf</td>\n",
       "      <td>NaN</td>\n",
       "    </tr>\n",
       "  </tbody>\n",
       "</table>\n",
       "<p>292 rows × 5 columns</p>\n",
       "</div>"
      ],
      "text/plain": [
       "      SalePrice              0  SalePrice    1   2\n",
       "Id                                                \n",
       "813       55993  114757.941932        inf  inf NaN\n",
       "273      290000  287439.178930        inf  inf NaN\n",
       "295      167000  222939.905891        inf  inf NaN\n",
       "453      204000  221576.797366        inf  inf NaN\n",
       "1003     232000  259177.510373        inf  inf NaN\n",
       "...         ...            ...        ...  ...  ..\n",
       "233       94500   70537.643946        inf  inf NaN\n",
       "1249     129500  195815.350462        inf  inf NaN\n",
       "882      187500  237241.283807        inf  inf NaN\n",
       "305      295000  292327.987909        inf  inf NaN\n",
       "315      178000  177925.364882        inf  inf NaN\n",
       "\n",
       "[292 rows x 5 columns]"
      ]
     },
     "execution_count": 23,
     "metadata": {},
     "output_type": "execute_result"
    }
   ],
   "source": [
    "erro = pd.concat([y_test, y_previsto_test, np.exp(y_test), np.exp(y_previsto_test), ((np.exp(y_test) - np.exp(y_previsto_test)).round(2))**2], axis=1)\n",
    "erro"
   ]
  },
  {
   "cell_type": "code",
   "execution_count": 24,
   "id": "3e093f7f",
   "metadata": {
    "ExecuteTime": {
     "end_time": "2022-07-11T00:33:54.778574Z",
     "start_time": "2022-07-11T00:33:54.767572Z"
    }
   },
   "outputs": [
    {
     "data": {
      "text/plain": [
       "inf"
      ]
     },
     "execution_count": 24,
     "metadata": {},
     "output_type": "execute_result"
    }
   ],
   "source": [
    "(erro[2].sum()/len(erro))**0.5"
   ]
  },
  {
   "cell_type": "code",
   "execution_count": 29,
   "id": "81170805",
   "metadata": {},
   "outputs": [],
   "source": [
    "X_kaggle_test_com_constante = sm.add_constant(df_kaggle_test)\n",
    "\n",
    "y_previsto_kaggle_test = modelo_estatsmodels.predict(X_kaggle_test_com_constante)\n",
    "\n",
    "pd.DataFrame(y_previsto_kaggle_test, columns=['SalePrice']).to_csv('../data/processed/first_output.csv')"
   ]
  }
 ],
 "metadata": {
  "hide_input": false,
  "kernelspec": {
   "display_name": "Python 3.9.13 64-bit",
   "language": "python",
   "name": "python3"
  },
  "language_info": {
   "codemirror_mode": {
    "name": "ipython",
    "version": 3
   },
   "file_extension": ".py",
   "mimetype": "text/x-python",
   "name": "python",
   "nbconvert_exporter": "python",
   "pygments_lexer": "ipython3",
   "version": "3.9.13"
  },
  "toc": {
   "base_numbering": 1,
   "nav_menu": {},
   "number_sections": true,
   "sideBar": true,
   "skip_h1_title": false,
   "title_cell": "Table of Contents",
   "title_sidebar": "Contents",
   "toc_cell": false,
   "toc_position": {
    "height": "calc(100% - 180px)",
    "left": "10px",
    "top": "150px",
    "width": "303.837px"
   },
   "toc_section_display": true,
   "toc_window_display": true
  },
  "vscode": {
   "interpreter": {
    "hash": "5adfb400b686726c1139253924508c252c3c8c5c2df7066b31fc5e2adc8c5836"
   }
  }
 },
 "nbformat": 4,
 "nbformat_minor": 5
}
